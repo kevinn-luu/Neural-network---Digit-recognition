{
  "nbformat": 4,
  "nbformat_minor": 0,
  "metadata": {
    "colab": {
      "provenance": []
    },
    "kernelspec": {
      "name": "python3",
      "display_name": "Python 3"
    },
    "language_info": {
      "name": "python"
    }
  },
  "cells": [
    {
      "cell_type": "markdown",
      "source": [
        "<h1><b>Digit Classification With Neural Networks<h1>\n",
        "<h5>The following program trains a neural network to recognize the digits 0 through 9. The network is built using the Tensorflow library.\n",
        "\n",
        "\n"
      ],
      "metadata": {
        "id": "Y9IsvGCniQJG"
      }
    },
    {
      "cell_type": "markdown",
      "source": [
        "<h3><b> Import Statements"
      ],
      "metadata": {
        "id": "Tn8S94qqozO-"
      }
    },
    {
      "cell_type": "code",
      "execution_count": null,
      "metadata": {
        "id": "nkuunp5IQnwK"
      },
      "outputs": [],
      "source": [
        "import tensorflow as tf\n",
        "from tensorflow import keras\n",
        "import numpy as np\n",
        "import matplotlib.pyplot as plt"
      ]
    },
    {
      "cell_type": "markdown",
      "source": [
        "<h3><b> Reading in the dataset\n",
        "<h5>The model will be trained using the MNIST digits classification dataset provided by Keras."
      ],
      "metadata": {
        "id": "r68Zm76jpmL4"
      }
    },
    {
      "cell_type": "code",
      "source": [
        "# read the data and split it into training and testing datasets\n",
        "(train_images, train_labels), (test_images, test_labels) = keras.datasets.mnist.load_data(path = \"mnist.npz\")\n",
        "\n",
        "# determine number of training images as well as image dimensions\n",
        "train_images.shape"
      ],
      "metadata": {
        "colab": {
          "base_uri": "https://localhost:8080/"
        },
        "id": "R3-3bODukkxj",
        "outputId": "d1081217-0042-4a28-b165-681d4cf82ca0"
      },
      "execution_count": null,
      "outputs": [
        {
          "output_type": "execute_result",
          "data": {
            "text/plain": [
              "(60000, 28, 28)"
            ]
          },
          "metadata": {},
          "execution_count": 10
        }
      ]
    },
    {
      "cell_type": "markdown",
      "source": [
        "<h5> The shape of the training images states that one image is 28 by 28 pixels. This means that one image is 28 x 28 = 784 pixels"
      ],
      "metadata": {
        "id": "F9lLlZfyt7N3"
      }
    },
    {
      "cell_type": "markdown",
      "source": [
        "<h3><b> Visualzing the training images\n",
        "<h5> Before building the model, its helpful to understand what the digits look like in image form."
      ],
      "metadata": {
        "id": "9B4kjBs-uJwd"
      }
    },
    {
      "cell_type": "code",
      "source": [
        "# prompts for user input, prints out the training image corresponding to the index. If index is invalid, prompts the user again.\n",
        "def visualize_digit():\n",
        "  index = int(input(\"Pick an image index: \"))\n",
        "  if valid_index_train_image(index):\n",
        "    plt.figure()\n",
        "    plt.imshow(train_images[index])\n",
        "    plt.colorbar()\n",
        "    plt.grid(False)\n",
        "    plt.show()\n",
        "  else:\n",
        "    print(\"Invalid index, please try again.\")\n",
        "    visualize_digit()\n",
        "\n",
        "# checks to see if the inputed index is a valid index\n",
        "def valid_index_train_image(int):\n",
        "  if 0 <= int <= 59999:\n",
        "    return True\n",
        "  else:\n",
        "    return False"
      ],
      "metadata": {
        "id": "C2_4rwU_rDME"
      },
      "execution_count": null,
      "outputs": []
    },
    {
      "cell_type": "code",
      "source": [
        "visualize_digit()"
      ],
      "metadata": {
        "colab": {
          "base_uri": "https://localhost:8080/",
          "height": 452
        },
        "id": "kraqyjE5treh",
        "outputId": "df4e9879-4f0b-4d42-8d47-5a5ac985ca6f"
      },
      "execution_count": null,
      "outputs": [
        {
          "name": "stdout",
          "output_type": "stream",
          "text": [
            "Pick an image index: 567\n"
          ]
        },
        {
          "output_type": "display_data",
          "data": {
            "text/plain": [
              "<Figure size 640x480 with 2 Axes>"
            ],
            "image/png": "[encoded data removed]"
          },
          "metadata": {}
        }
      ]
    },
    {
      "cell_type": "markdown",
      "source": [
        "<h3><b>Building the model\n",
        "<h5>Before building the model, the images should be scaled down. Each pixel has a grayscale value between 0-255 as read from the description given by Keras. These values should be reduced to minimze the complexity of the network"
      ],
      "metadata": {
        "id": "C60Fiv8DxFmQ"
      }
    },
    {
      "cell_type": "code",
      "source": [
        "# scale down the training and testing images\n",
        "train_images = train_images / 255\n",
        "test_images = test_images / 255"
      ],
      "metadata": {
        "id": "aP3LxwoGw0gZ"
      },
      "execution_count": null,
      "outputs": []
    },
    {
      "cell_type": "markdown",
      "source": [
        "<h5> Building a neural network for this task is slightly ambiguous with respect to its architecture. For good practice, the model is first designed with one hidden layer along with the input and output layers.\n",
        "\n",
        "The input layer contains 784 neurons, one for each pixel in an image. The output layer will contain 10 neurons, one for each digit from 0 - 9. These will correspond to the class names defined below. The hidden layer should contain around 100-200 neurons. This can be adjusted when the model is trained"
      ],
      "metadata": {
        "id": "F1ty57tizQz8"
      }
    },
    {
      "cell_type": "code",
      "source": [
        "# create class names\n",
        "class_names = ['Zero', 'One', 'Two', 'Three', 'Four', 'Five', 'Six', 'Seven', 'Eight', 'Nine']"
      ],
      "metadata": {
        "id": "GBxZvwXCzKCg"
      },
      "execution_count": null,
      "outputs": []
    },
    {
      "cell_type": "markdown",
      "source": [
        "<h5><b>Activation functions\n",
        "<h5>For a three-layered neural network, two activation functions are needed. The hidden layer will use Relu - rectified linear unit. For the output layer, the activation function will be softmax. This is because the model is predicting one out of 10 digits. Softmax can produce a probability distribution over the 10 digits, and the digit with the highest probability would be the model's prediction."
      ],
      "metadata": {
        "id": "jDlPopAs3Ek4"
      }
    },
    {
      "cell_type": "code",
      "source": [
        "# build the architecture of the neural network with hiden layer = 150 neurons for now\n",
        "model = keras.Sequential(\n",
        "    [keras.layers.Flatten(input_shape=(28, 28)),\n",
        "     keras.layers.Dense(150, activation = 'relu'),\n",
        "     keras.layers.Dense(10, activation = 'softmax')])"
      ],
      "metadata": {
        "id": "QCRxT2q52hyT"
      },
      "execution_count": null,
      "outputs": []
    },
    {
      "cell_type": "markdown",
      "source": [
        "<h5><b>Optimizer and Loss Function\n",
        "<h5>Before training the model, it needs to be optimized, as well as have a loss function to improve the overall accuracy of the model. Adam is chosen as the optimizer. For the loss function, since this program predicts between multiple classes, sparse_categorical_crossentropy will be used.\n",
        "\n"
      ],
      "metadata": {
        "id": "FkT_c2oF49QB"
      }
    },
    {
      "cell_type": "code",
      "source": [
        "# compile and optimize the model\n",
        "model.compile(optimizer = 'adam',\n",
        "              loss = 'sparse_categorical_crossentropy',\n",
        "              metrics = ['accuracy'])"
      ],
      "metadata": {
        "id": "kk1Duib54rwE"
      },
      "execution_count": null,
      "outputs": []
    },
    {
      "cell_type": "markdown",
      "source": [
        "<h3><b>Training and testing the model\n",
        "<h5>Training the model is a supervised learning task. This means after each training round, the accuracy can be improved by adjusting the model. These adjustments can include changing the activation functions, the number of neurons in the hidden layer, adding layers, or changing the number of epochs to account for over and under fitting."
      ],
      "metadata": {
        "id": "ydJWzci-6cfy"
      }
    },
    {
      "cell_type": "code",
      "source": [
        "# train and test the model using 1 epoch. Produce the test accuracy\n",
        "model.fit(train_images, train_labels, epochs = 1)\n",
        "test_loss, test_acc = model.evaluate(test_images, test_labels, verbose = 1)\n",
        "print(test_acc)"
      ],
      "metadata": {
        "colab": {
          "base_uri": "https://localhost:8080/"
        },
        "id": "LJ_8rMMk6Tei",
        "outputId": "13602c0b-0c0f-4f28-8aad-6bfb49b1401a"
      },
      "execution_count": null,
      "outputs": [
        {
          "output_type": "stream",
          "name": "stdout",
          "text": [
            "1875/1875 [==============================] - 8s 4ms/step - loss: 0.0044 - accuracy: 0.9985\n",
            "313/313 [==============================] - 1s 2ms/step - loss: 0.0987 - accuracy: 0.9788\n",
            "0.9787999987602234\n"
          ]
        }
      ]
    },
    {
      "cell_type": "markdown",
      "source": [
        "<h5> The test accuracy produced by the model is slightly lower than the accuracy for the training sets; however, the difference is slight and the accuracy is still high. For 1 epoch, 5 epochs, or 10 epochs, the test accuracy is around 0.98. Overfitting or underfitting doesn't seem to be a problem with this model.\n",
        "\n",
        "<h5> We can make predictions on testing images to see if reliable responses are produced."
      ],
      "metadata": {
        "id": "J-x_LOxw8AyP"
      }
    },
    {
      "cell_type": "code",
      "source": [
        "# make predictions on the testing images\n",
        "predictions = model.predict(test_images)"
      ],
      "metadata": {
        "colab": {
          "base_uri": "https://localhost:8080/"
        },
        "id": "-m6eqXHN7T1a",
        "outputId": "e443b37c-72ad-4f61-dca1-434c26ecd598"
      },
      "execution_count": null,
      "outputs": [
        {
          "output_type": "stream",
          "name": "stdout",
          "text": [
            "313/313 [==============================] - 1s 2ms/step\n"
          ]
        }
      ]
    },
    {
      "cell_type": "code",
      "source": [
        "# check shape to see the number of test images\n",
        "test_images.shape"
      ],
      "metadata": {
        "colab": {
          "base_uri": "https://localhost:8080/"
        },
        "id": "xZFzHEGO-lOJ",
        "outputId": "729a3463-10b7-4705-ec26-99b65f11115c"
      },
      "execution_count": null,
      "outputs": [
        {
          "output_type": "execute_result",
          "data": {
            "text/plain": [
              "(10000, 28, 28)"
            ]
          },
          "metadata": {},
          "execution_count": 54
        }
      ]
    },
    {
      "cell_type": "code",
      "source": [
        "def produce_prediction():\n",
        "  index = int(input(\"Pick an image index: \"))\n",
        "  if valid_index_test_image(index):\n",
        "    plt.figure()\n",
        "    plt.imshow(test_images[index])\n",
        "    plt.xlabel(\"Prediction: \" + class_names[np.argmax(predictions[index])])\n",
        "    plt.show()\n",
        "  else:\n",
        "    print(\"Please input a valid index.\")\n",
        "    produce_prediction()\n",
        "\n",
        "def valid_index_test_image(int):\n",
        "  if 0 <= int <= 9999:\n",
        "    return True\n",
        "  else:\n",
        "    return False"
      ],
      "metadata": {
        "id": "Eiv9cZrv9mPr"
      },
      "execution_count": null,
      "outputs": []
    },
    {
      "cell_type": "code",
      "source": [
        "produce_prediction()"
      ],
      "metadata": {
        "colab": {
          "base_uri": "https://localhost:8080/",
          "height": 466
        },
        "id": "IAGTIG5k_1Ej",
        "outputId": "851f0dfb-316e-4aab-f078-095a1c3abe64"
      },
      "execution_count": null,
      "outputs": [
        {
          "name": "stdout",
          "output_type": "stream",
          "text": [
            "Pick an image index: 3456\n"
          ]
        },
        {
          "output_type": "display_data",
          "data": {
            "text/plain": [
              "<Figure size 640x480 with 1 Axes>"
            ],
            "image/png": "[encoded data removed]"
          },
          "metadata": {}
        }
      ]
    },
    {
      "cell_type": "code",
      "source": [],
      "metadata": {
        "id": "ocFLBu57_3LO"
      },
      "execution_count": null,
      "outputs": []
    }
  ]
}